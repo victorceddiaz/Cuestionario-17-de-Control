{
  "nbformat": 4,
  "nbformat_minor": 0,
  "metadata": {
    "colab": {
      "name": "Arboles_1310.ipynb",
      "provenance": [],
      "collapsed_sections": [],
      "authorship_tag": "ABX9TyMDC9O81fD/nZ663eX609wX",
      "include_colab_link": true
    },
    "kernelspec": {
      "name": "python3",
      "display_name": "Python 3"
    },
    "language_info": {
      "name": "python"
    }
  },
  "cells": [
    {
      "cell_type": "markdown",
      "metadata": {
        "id": "view-in-github",
        "colab_type": "text"
      },
      "source": [
        "<a href=\"https://colab.research.google.com/github/victorceddiaz/Cuestionario-17-de-Control/blob/main/Arboles_1310.ipynb\" target=\"_parent\"><img src=\"https://colab.research.google.com/assets/colab-badge.svg\" alt=\"Open In Colab\"/></a>"
      ]
    },
    {
      "cell_type": "code",
      "metadata": {
        "id": "2Iib-qAFBqoN"
      },
      "source": [
        "class NodoBinario :\n",
        "    def __init__(self, value, left = None, right = None) :\n",
        "        self.data = value\n",
        "        self.left = left\n",
        "        self.right = right\n",
        "\n",
        "class NodoTernario :\n",
        "    def __init__(self, value, left = None, center = None, right = None) :\n",
        "        self.data = value\n",
        "        self.left = left\n",
        "        self.center = center\n",
        "        self.right = right"
      ],
      "execution_count": 2,
      "outputs": []
    },
    {
      "cell_type": "code",
      "metadata": {
        "colab": {
          "base_uri": "https://localhost:8080/"
        },
        "id": "7YQamUoeD5i0",
        "outputId": "5ea75bb5-b6b3-4f2a-bc71-fe4eb828d07f"
      },
      "source": [
        "arbol1 = NodoBinario(\"R\", NodoBinario(\"C\"), NodoBinario(\"H\"))\n",
        "print(arbol1.right.data)\n",
        "\n",
        "arbol2 = NodoTernario(4, NodoTernario(3, NodoTernario(5, left = NodoTernario(2)), NodoTernario(5), NodoTernario(2)), None, NodoTernario(5))\n",
        "print(arbol2.left.right.data)\n",
        "print(arbol2.data)\n",
        "print(arbol2.left.left.left.data)\n",
        "\n",
        "print(\"\\nForma 2 de hacerlo\")\n",
        "aux = arbol2\n",
        "while (aux.left != None) :\n",
        "    aux = aux.left\n",
        "print(aux.data)"
      ],
      "execution_count": 6,
      "outputs": [
        {
          "output_type": "stream",
          "name": "stdout",
          "text": [
            "H\n",
            "2\n",
            "4\n",
            "2\n",
            "\n",
            "Forma 2 de hacerlo\n",
            "2\n"
          ]
        }
      ]
    },
    {
      "cell_type": "code",
      "metadata": {
        "colab": {
          "base_uri": "https://localhost:8080/"
        },
        "id": "Iv7sg2nwHMxK",
        "outputId": "a006ddf6-cd90-4efa-bd4d-36330d3301e0"
      },
      "source": [
        "root = NodoBinario(\"Santi\", None, NodoBinario(\"Jesus\", NodoBinario(\"Pedro\", None, NodoBinario(\"PedroJr\"))))\n",
        "print(root.data)\n",
        "print(root.right.data)\n",
        "print(root.right.left.data)\n",
        "print(root.right.left.right.data)"
      ],
      "execution_count": 12,
      "outputs": [
        {
          "output_type": "stream",
          "name": "stdout",
          "text": [
            "Santi\n",
            "Jesus\n",
            "Pedro\n",
            "PedroJr\n"
          ]
        }
      ]
    }
  ]
}